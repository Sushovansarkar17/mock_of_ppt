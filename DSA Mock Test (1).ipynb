{
 "cells": [
  {
   "cell_type": "markdown",
   "id": "d22a5f70-d69e-4c54-88fa-8ad01479d0ee",
   "metadata": {},
   "source": [
    "1.\n",
    "Move Zeroes\n",
    "Given an integer array nums, move all 0's to the end of it while maintaining the relative order of the non-zero elements.\n",
    "\n",
    "Note that you must do this in-place without making a copy of the array.\n",
    "\n",
    "Example 1:\n",
    "Input: nums = [0,1,0,3,12]\n",
    "Output: [1,3,12,0,0]\n",
    "\n",
    "Example 2:\n",
    "Input: nums = [0]\n",
    "Output: [0]\n",
    "\n",
    "Constraints:\n",
    "a. 1 <= nums.length <= 10^4\n",
    "b. -2^31 <= nums[i] <= 2^31 - 1\n",
    "\n"
   ]
  },
  {
   "cell_type": "code",
   "execution_count": 2,
   "id": "95aeee56-f985-4e65-bc77-eaca18539078",
   "metadata": {},
   "outputs": [
    {
     "name": "stdout",
     "output_type": "stream",
     "text": [
      "[1, 3, 12, 0, 0]\n"
     ]
    }
   ],
   "source": [
    "def move_zeros(nums):\n",
    "  \"\"\"\n",
    "  Move all 0's to the end of the array while maintaining the relative order of the non-zero elements.\n",
    "\n",
    "  Args:\n",
    "    nums: The array to be modified.\n",
    "\n",
    "  Returns:\n",
    "    The modified array.\n",
    "  \"\"\"\n",
    "\n",
    "  count = 0\n",
    "  for i in range(len(nums)):\n",
    "    if nums[i] != 0:\n",
    "      nums[count] = nums[i]\n",
    "      count += 1\n",
    "\n",
    "  for i in range(count, len(nums)):\n",
    "    nums[i] = 0\n",
    "\n",
    "  return nums\n",
    "\n",
    "\n",
    "if __name__ == \"__main__\":\n",
    "  nums = [0, 1, 0, 3, 12]\n",
    "  print(move_zeros(nums))"
   ]
  },
  {
   "cell_type": "markdown",
   "id": "2d2232b7-93c1-40c1-b156-e327b7dec416",
   "metadata": {},
   "source": [
    "This code works by first initializing a variable count to 0. This variable will be used to keep track of the index of the first non-zero element in the array. The code then iterates through the array, and if an element is not equal to 0, the code copies the element to the index count in the array and increments count by 1. The code then iterates through the array again, and if an element is equal to 0, the code sets the element to 0."
   ]
  },
  {
   "cell_type": "code",
   "execution_count": null,
   "id": "8088984b-c9dd-4c72-aa0d-5bb03ff21175",
   "metadata": {},
   "outputs": [],
   "source": []
  }
 ],
 "metadata": {
  "kernelspec": {
   "display_name": "Python 3 (ipykernel)",
   "language": "python",
   "name": "python3"
  },
  "language_info": {
   "codemirror_mode": {
    "name": "ipython",
    "version": 3
   },
   "file_extension": ".py",
   "mimetype": "text/x-python",
   "name": "python",
   "nbconvert_exporter": "python",
   "pygments_lexer": "ipython3",
   "version": "3.10.8"
  }
 },
 "nbformat": 4,
 "nbformat_minor": 5
}
