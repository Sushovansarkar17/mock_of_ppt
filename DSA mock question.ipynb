{
 "cells": [
  {
   "cell_type": "markdown",
   "id": "5392eef0-619a-4cf0-8463-d03d327e2113",
   "metadata": {},
   "source": [
    "2. First Unique Character in a String\n",
    "\n",
    "Given a string s, find the first non-repeating character in it and return its index. If it does not exist, return -1.\n",
    "\n",
    "Example 1:\n",
    "Input: s = \"leetcode\"\n",
    "Output: 0\n",
    "\n",
    "Example 2:\n",
    "Input: s = \"loveleetcode\"\n",
    "Output: 2\n",
    "\n",
    "Example 3:\n",
    "Input: s = \"aabb\"\n",
    "Output: -1\n",
    "\n",
    "Constraints:\n",
    "a. 1 <= s.length <= 10^5\n",
    "b. s consists of only lowercase English letters."
   ]
  },
  {
   "cell_type": "code",
   "execution_count": 2,
   "id": "a726cbb4-9c76-4737-af51-e79abb7e0a0e",
   "metadata": {},
   "outputs": [
    {
     "name": "stdout",
     "output_type": "stream",
     "text": [
      "0\n",
      "2\n",
      "-1\n"
     ]
    }
   ],
   "source": [
    "def firstUniqChar(s):\n",
    "    freq = {}\n",
    "    \n",
    "    # Update character frequencies\n",
    "    for char in s:\n",
    "        freq[char] = freq.get(char, 0) + 1\n",
    "    \n",
    "    # Find first non-repeating character\n",
    "    for i, char in enumerate(s):\n",
    "        if freq[char] == 1:\n",
    "            return i\n",
    "    \n",
    "    return -1\n",
    "\n",
    "# Test the function\n",
    "print(firstUniqChar(\"leetcode\"))     # Output: 0\n",
    "print(firstUniqChar(\"loveleetcode\")) # Output: 2\n",
    "print(firstUniqChar(\"aabb\"))         # Output: -1\n"
   ]
  },
  {
   "cell_type": "markdown",
   "id": "994e62d4-1af2-4cec-974d-828ab1f0e39e",
   "metadata": {},
   "source": [
    "The time complexity of this solution is O(n), where n is the length of the string, because we iterate through the string twice. The space complexity is O(1) since the maximum number of keys in the hash map would be the number of unique characters in the string. In this case, it is bounded by the size of the alphabet, which is constant."
   ]
  },
  {
   "cell_type": "code",
   "execution_count": null,
   "id": "ed67656c-70fd-482e-a97f-726917bc7f6e",
   "metadata": {},
   "outputs": [],
   "source": []
  }
 ],
 "metadata": {
  "kernelspec": {
   "display_name": "Python 3 (ipykernel)",
   "language": "python",
   "name": "python3"
  },
  "language_info": {
   "codemirror_mode": {
    "name": "ipython",
    "version": 3
   },
   "file_extension": ".py",
   "mimetype": "text/x-python",
   "name": "python",
   "nbconvert_exporter": "python",
   "pygments_lexer": "ipython3",
   "version": "3.10.8"
  }
 },
 "nbformat": 4,
 "nbformat_minor": 5
}
